{
 "cells": [
  {
   "cell_type": "markdown",
   "id": "4bf78103-006f-4fdd-a1d7-88d1d9ded397",
   "metadata": {},
   "source": [
    "#　平均値を求める実装"
   ]
  },
  {
   "cell_type": "markdown",
   "id": "d59f8794-e1f7-4fad-b552-3c28be41dede",
   "metadata": {},
   "source": [
    "$$\n",
    "Q_n = \\frac{R_1 + R_2 + ・・・ + R_n}{n}\n",
    "$$"
   ]
  },
  {
   "cell_type": "markdown",
   "id": "e162b24f-1dde-479b-a5d1-2b4a4d9828d1",
   "metadata": {},
   "source": [
    "$$\n",
    "Q = 行動価値　R = 報酬　n = 試行回数\n",
    "$$"
   ]
  },
  {
   "cell_type": "code",
   "execution_count": 1,
   "id": "2cee9e62-7ee8-4125-a4d0-c3c8f984f501",
   "metadata": {},
   "outputs": [
    {
     "name": "stdout",
     "output_type": "stream",
     "text": [
      "0.5488135039273248\n",
      "0.6320014351498722\n",
      "0.6222554154571295\n",
      "0.6029123573420713\n",
      "0.567060845741438\n",
      "0.5801997236289743\n",
      "0.5598265075766483\n",
      "0.6013198192273272\n",
      "0.6415801460355164\n",
      "0.6157662833145425\n"
     ]
    }
   ],
   "source": [
    "import numpy as np\n",
    "\n",
    "np.random.seed(0)\n",
    "rewards = []\n",
    "\n",
    "for n in range(1, 11):\n",
    "    reward = np.random.rand()\n",
    "    rewards.append(reward)\n",
    "    Q = sum(rewards) / n\n",
    "    print(Q)\n",
    "    "
   ]
  },
  {
   "cell_type": "markdown",
   "id": "696b77c1-015e-424b-9d54-d65bb4abd322",
   "metadata": {},
   "source": [
    "$$\n",
    "Q_n = Q_{n-1} + \\frac{1}{n}(R_n - Q_{n-1})\n",
    "$$"
   ]
  },
  {
   "cell_type": "code",
   "execution_count": 2,
   "id": "29c46f68-55fa-46d1-a6a8-5ad4c0b4bd27",
   "metadata": {},
   "outputs": [
    {
     "name": "stdout",
     "output_type": "stream",
     "text": [
      "0.7917250380826646\n",
      "0.6603099789177845\n",
      "0.6295548396431672\n",
      "0.7035652893055406\n",
      "0.5770594430840099\n",
      "0.49540441918693173\n",
      "0.4275207017945595\n",
      "0.4781580947637318\n",
      "0.5114912787844116\n",
      "0.5473433657306523\n"
     ]
    }
   ],
   "source": [
    "Q = 0\n",
    "\n",
    "for n in range(1, 11):\n",
    "    reward = np.random.rand()\n",
    "    Q = Q + (reward - Q) / n\n",
    "    print(Q)\n",
    "    "
   ]
  },
  {
   "cell_type": "code",
   "execution_count": null,
   "id": "8d6f2b78-1de4-4bb7-9586-b20076508126",
   "metadata": {},
   "outputs": [],
   "source": []
  }
 ],
 "metadata": {
  "kernelspec": {
   "display_name": "Python 3 (ipykernel)",
   "language": "python",
   "name": "python3"
  },
  "language_info": {
   "codemirror_mode": {
    "name": "ipython",
    "version": 3
   },
   "file_extension": ".py",
   "mimetype": "text/x-python",
   "name": "python",
   "nbconvert_exporter": "python",
   "pygments_lexer": "ipython3",
   "version": "3.9.13"
  }
 },
 "nbformat": 4,
 "nbformat_minor": 5
}
